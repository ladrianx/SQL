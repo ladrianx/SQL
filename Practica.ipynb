{
  "nbformat": 4,
  "nbformat_minor": 0,
  "metadata": {
    "colab": {
      "provenance": []
    },
    "kernelspec": {
      "name": "python3",
      "display_name": "Python 3"
    },
    "language_info": {
      "name": "python"
    }
  },
  "cells": [
    {
      "cell_type": "markdown",
      "source": [
        "# Métodos Matemáticos en Finanzas II\n"
      ],
      "metadata": {
        "id": "rm75yf-bdhU6"
      }
    },
    {
      "cell_type": "markdown",
      "source": [
        "## Ejercicio: Demuestre que si $Q$ es una probabilidad neutra al riesgo se cumple lo siguiente:\n",
        "\n",
        "**1.a)**. Se satisface que $\\mathbb{E}^Q[\\tilde{G}^{\\varphi}] = 0$.\n",
        "\n",
        "**Prueba**: Sea $(\\Omega, \\mathcal{F}, P)$ un espacio de probabilidad y sea $Q$ una probabilidad neutra al riesgo. Esto implica que deben cumplirse las siguientes propiedades:\n",
        "\n",
        "  1. $Q(\\omega)\\geq 0$ para toda $\\omega \\in \\Omega$,\n",
        "\n",
        "  2. $\\sum_{\\omega \\in \\Omega}Q(\\omega)=1$\n",
        "    \n",
        "  3. $\\text{E}^{Q}[\\Delta \\tilde{S}] = 0$\n",
        "\n",
        "Sea $\\{\\varphi\\}_{i=0}^{N}$ una estrategia de inversión. Por definición sabemos que su ganancia descontada se puede expresar como\n",
        "  $$\n",
        "  \\tilde{G}^{\\varphi}(\\omega) = \\tilde{V}_{1}^{\\varphi} (\\omega) - V_{0}^{\\varphi} = \\sum_{j=1}^{N}\\varphi_{j} \\Delta\\tilde{S}_j(\\omega)\n",
        "  $$\n",
        "  para cada $\\omega \\in \\Omega$. Esto implica que\n",
        "  $$\n",
        "  \\text{E}^{Q}[\\tilde{G}^{\\varphi}] = \\text{E}^{Q}\\Big[\\sum_{j=1}^{N}\\varphi_{j} \\Delta\\tilde{S}_j\\Big] = \\sum_{\\omega\\in\\Omega}\\sum_{j=1}^{N}\\varphi_{j} \\Delta\\tilde{S}_j(\\omega)Q(\\omega)\n",
        "  $$\n",
        "  y por lo tanto,\n",
        "  $$\n",
        "  \\sum_{j=1}^{N}\\varphi_{j} \\sum_{\\omega\\in\\Omega}\\Delta\\tilde{S}_j(\\omega)Q(\\omega) = \\sum_{j=1}^{N}\\varphi_{j} \\text{E}^{Q}[\\Delta \\tilde{S}_{j}]\n",
        "  $$\n",
        "  Por la propiedad (P3) podemos concluir que\n",
        "  $$\n",
        "   \\text{E}^{Q}[\\tilde{G}^{\\varphi}]  = 0  \\quad ◼️\n",
        "  $$\n",
        "\n",
        "**1.b)**. Se satisface que $V_0^{\\varphi} = \\text{E}^Q[\\tilde{V}_1^{\\varphi}]$.\n",
        "\n",
        "  **Prueba:** Primero probemos que $\\text{E}^{Q}[\\Delta \\tilde{S}_j] = 0$ implica que $\\text{E}^{Q}[\\tilde{S}_j^{1}] = S_j^0$. Para este fin observemos que, a partir de las propiedades (P2) y (P3), obtenemos que\n",
        "  $$\n",
        "  \\text{E}^{Q}[\\Delta \\tilde{S}_j] = \\sum_{\\omega\\in\\Omega}\\Delta \\tilde{S}_j(\\omega)Q(\\omega) = \\sum_{\\omega\\in\\Omega}(\\tilde{S}_j^1(\\omega) -S_{j}^0) Q(\\omega) = \\text{E}^{Q}[\\tilde{S}_{j}^{1}] - S_{j}^0 =0\n",
        "  $$\n",
        "  Por lo tanto, $\\text{E}^{Q}[\\tilde{S}_j^{1}] = S_j^0$.\n",
        "  \n",
        "  El resultado anterior implica que\n",
        "  $$\n",
        "  \\text{E}^Q[\\tilde{V}_1^{\\varphi}]=\\sum_{\\omega\\in\\Omega}\\tilde{V}_{1}^{\\varphi}(\\omega)Q(\\omega) = \\sum_{\\omega\\in\\Omega}\\big( \\tilde{G}^{\\varphi}(\\omega) + V_{0}^{\\varphi})Q(\\omega) = \\text{E}^{Q}[\\tilde{G}^{\\varphi}] + V_{0}^{\\varphi}\n",
        "  $$\n",
        "  Dado que $\\mathbb{E}^Q[\\tilde{G}^{\\varphi}] = 0$, podemos concluir que $\\text{E}^Q[\\tilde{V}_1^{\\varphi}]=V_{0}^{\\varphi} \\quad ◼️$\n",
        "\n",
        "\n"
      ],
      "metadata": {
        "id": "6wCdt5dEdl3q"
      }
    },
    {
      "cell_type": "markdown",
      "source": [
        "## Dado el siguiente mercado responda las siguientes preguntas, justificando sus respuestas.\n",
        "\n",
        "Si $\\Omega = \\{\\omega_1, \\omega_2\\}$, $N = 2$, $r = \\frac{1}{9}$.\n",
        "\n",
        "\n",
        "\\begin{array}{c|c|c|c}\n",
        "N & S_0^i & S_1^j(\\omega_1) & S_1^j(\\omega_2) \\\\\n",
        "\\hline\n",
        "1 & 6 & 8 & 4 \\\\\n",
        "2 & 5 & 7 & 4 \\\\\n",
        "\\end{array}\n",
        "\n",
        "1. ¿Existe una probabilidad neutra al riesgo? Si existe, determínela o determínelas.\n",
        "  \n",
        "  **Solución:** Supongamos que existe $Q$ probabilidad neutra al riesgo. Esto implica que deben satisfacerse las siguientes condiciones\n",
        "\n",
        "    $\\alpha$) $Q(\\omega_1) + Q(\\omega_2) = 1$\n",
        "\n",
        "    $\\beta$) $\\text{E}^{Q}[\\tilde{S}_1^{j}] = S_0^j$ para $j=1,2$\n",
        "  \n",
        "  Definamos $p = Q(\\omega_1)$ y $q=Q(\\omega_2)$. A partir de estas condiciones podemos deducir el siguiente sistema de ecuaciones lineales\n",
        "\n",
        "   \\begin{matrix}\n",
        "   &p& +& q& =& 1 \\\\\n",
        "   &72p& + &36q& = &60\\\\\n",
        "   &63p& + &36q& = &50\\\\\n",
        "   \\end{matrix}\n",
        "\n",
        "  Este sistema es equivalente a\n",
        "  \\begin{matrix}\n",
        "  &p& +& q& =& 1 \\\\\n",
        "  & & - &36q& = &-12\\\\\n",
        "  & &  & 0& = &-4\\\\\n",
        "  \\end{matrix}\n",
        "\n",
        "  Este sistema no tiene solución y por lo tanto, no existe una probabilidad neutra al riesgo.\n",
        "\n",
        "2. ¿Existe una estrategia dominante? Si existe, dar un ejemplo de ella.\n",
        "\n",
        "  **Solución:** Para que exista una estrategia dominante debemos encontrar una estrategia de inversión $\\varphi=\\{\\varphi_0, \\varphi_1, \\varphi_2\\}$ tal que\n",
        "\n",
        "  $\\alpha$) $V_{0}^{\\varphi} = 0$\n",
        "\n",
        "  $\\beta$) $V_1^{\\varphi}(\\omega)>0$ para toda $\\omega\\in\\Omega$\n",
        "\n",
        "  Esto implica que\n",
        "  \n",
        "  \\begin{matrix}\n",
        "  V_{0}^{\\varphi}& = &\\varphi_0& + &6\\varphi_1& + &5\\varphi_2 &=& 0 \\\\\n",
        "  V_{1}^{\\varphi}(\\omega_1)& = &\\frac{10}{9}\\varphi_0& + &8\\varphi_1& + &7\\varphi_2 & > & 0 \\\\\n",
        "  V_{1}^{\\varphi}(\\omega_2)& = &\\frac{10}{9}\\varphi_0& + &4\\varphi_1& + &4\\varphi_2 & > & 0 \\\\\n",
        "  \\end{matrix}\n",
        "\n",
        "  Escribamos los valores decontados\n",
        "  \\begin{matrix}\n",
        "  \\tilde{V}_{1}^{\\varphi}(\\omega_1)& = &\\varphi_0& + &\\frac{72}{10}\\varphi_1& + &\\frac{63}{10}\\varphi_2 & > & 0 \\\\\n",
        "  \\tilde{V}_{1}^{\\varphi}(\\omega_2)& = &\\varphi_0& + &\\frac{36}{10}\\varphi_1& + &\\frac{36}{10}\\varphi_2 & > & 0 \\\\\n",
        "  \\end{matrix}\n",
        "\n",
        "  Si tomamos $\\varphi_0 = - (6\\varphi_1 + 5\\varphi_2)$ obtenemos que $V_{0}^{\\varphi}=0$ y\n",
        "\n",
        "   \\begin{matrix}\n",
        "  \\tilde{G}(\\omega_1)& = &\\frac{12}{10}\\varphi_1& + &\\frac{13}{10}\\varphi_2 & > & 0 \\\\\n",
        "  \\tilde{G}(\\omega_2)& = &-\\frac{24}{10}\\varphi_1& - &\\frac{14}{10}\\varphi_2 & > & 0 \\\\\n",
        "  \\end{matrix}\n",
        "\n",
        "  Esto implica que\n",
        "\n",
        "  \\begin{matrix}\n",
        "  &{12}\\varphi_1& +  &{13}\\varphi_2& > & 0 \\\\\n",
        "  &-{24}\\varphi_1& -  &{14}\\varphi_2& > & 0  \\\\\n",
        "  \\end{matrix}\n",
        "\n",
        "  Si tomamos $\\varphi_1=-1$ y $\\varphi_2=+1$ tenemos una estrategia dominante.\n",
        "\n",
        "3. ¿Existe una estrategia de arbitraje? Si existe, dar un ejemplo de ella.\n",
        "\n",
        "  **Solución:** De la expresión anterior tenemos que\n",
        "  \n",
        "  \\begin{matrix}\n",
        "  &{12}\\varphi_1& +  &{13}\\varphi_2& \\geq & 0 \\\\\n",
        "  &-{24}\\varphi_1& -  &{14}\\varphi_2& \\geq & 0  \\\\\n",
        "  \\end{matrix}\n",
        "  \n",
        "  Esto implica que $12\\varphi_1 \\geq 13\\varphi_2$ y por lo tanto, $\\varphi_{1}\\geq (13/12)\\varphi_2$. Sustituyamos este valor en la segunda expresión para obtener $-24(13/12)\\varphi_2-14\\varphi_2\\geq 0$ y por lo tanto, $-26\\varphi_2 - 14\\varphi_2\\geq 0$. Esto implica que $-40\\varphi_2\\geq 0$ y $\\varphi_2 < 0$.\n",
        "\n",
        "  Si tomamos $\\varphi_2 = -1$ y $\\varphi_1 = -13/12$ obtenemos una estrategia de oportunidad de arbitraje ya que $\\tilde{G}(\\omega)\\geq 0 $ para toda $\\omega \\in \\Omega$ y por lo tanto,\n",
        "  $$\n",
        "  \\text{E}[\\tilde{G}^{\\varphi}] > 0\n",
        "  $$\n",
        "\n",
        "4. ¿Es el mercado completo?\n",
        "\n",
        "  **Solución:** No, no es completo porque no existe una única probabilidad neutra al riesgo. Ya que como vimos en el primer inciso no existe ninguna probabilidad neutra al riesgo.\n",
        "\n",
        "\n",
        "\n"
      ],
      "metadata": {
        "id": "uuLXpSlG0QSi"
      }
    },
    {
      "cell_type": "markdown",
      "source": [
        "## Ejercicio: Dado el siguiente mercado responda las siguientes preguntas, justificando sus respuestas.\n",
        "\n",
        "**2-modelo a)** Si $\\Omega = \\{\\omega_1, \\omega_2, \\omega_3\\}$, $N = 2$, $r = \\frac{1}{9}$.\n",
        "\n",
        "\n",
        "\\begin{array}{c|c|c|c|c}\n",
        "N & S_0^i & S_1^j(\\omega_1) & S_1^j(\\omega_2) & S_1^j(\\omega_3) \\\\\n",
        "\\hline\n",
        "1 & 6 & 8 & 4 & 6 \\\\\n",
        "2 & 10 & 12 & 8 & 11 \\\\\n",
        "\\end{array}\n",
        "\n",
        "1. ¿Existe una probabilidad neutra al riesgo? Si existe, determínela o determínelas.\n",
        "\n",
        "  **Solución:** Sí existe. Supongamos que $Q$ es dicha probabilidad neutra al riesgo. Esto implica que deben satisfacerse las siguientes condiciones\n",
        "\n",
        "    ($\\alpha$) $Q(\\omega_1) + Q(\\omega_2) + Q(\\omega_3)= 1$\n",
        "\n",
        "    ($\\beta$) $\\text{E}^{Q}[\\tilde{S}_1^{j}] = S_0^j$ para $j=1,2,3$\n",
        "  \n",
        "  Definamos $p = Q(\\omega_1)$, $q=Q(\\omega_2)$ y $r=Q(\\omega_3)$. A partir de estas condiciones podemos deducir el siguiente sistema de ecuaciones lineales\n",
        "\n",
        "   \\begin{matrix}\n",
        "   &p& +& q& + & r&=& 1 \\\\\n",
        "   &72p& + &36q& + &54r&= &60\\\\\n",
        "   &108p& + &72q& + &99r& = &100\\\\\n",
        "   \\end{matrix}\n",
        "\n",
        "  Este sistema es equivalente a\n",
        "  \\begin{matrix}\n",
        "  &p& +& q& + &r&=& 1 \\\\\n",
        "  & & - &36q& - &18r& = &-12\\\\\n",
        "  & &  &  & + &9r& = &4\\\\\n",
        "  \\end{matrix}\n",
        "\n",
        "  El cual tiene solución única $(p,q,r)=(4/9,1/9,4/9)$ y por lo tanto, existe una probabilidad neutra al riesgo.\n",
        "\n",
        "2. ¿Existe una estrategia dominante? Si existe, dar un ejemplo de ella.\n",
        "\n",
        "  **Solución:** No. De acuerdo con el inciso anterior existe una única probabilidad neutra al riesgo porque el sistema tiene solución única y por el *Primer Teorema Fundamental de Valuación de activos* sabemos que no existe oportunidad de arbitraje. Dado que toda estrategia dominante es de arbitraje podemos concluir que, al no existir ninguna oportunidad de arbitraje, tampoco existe una estrategia dominante.\n",
        "\n",
        "3. ¿Existe una estrategia de arbitraje? Si existe, dar un ejemplo de ella.\n",
        "\n",
        "  **Solución:** No. Usando el argumento del inciso anterior podemos concluir que hay ausencia de oportunidad de arbitraje, es decir, no existe una estrategia de arbitraje.\n",
        "\n",
        "4. ¿Es el mercado completo?\n",
        "  \n",
        "  **Solución:** Sí. Dado que solo existe una única probabilidad neutra al riesgo, por el Segundo Teorema Fundamental de Valuación de Activos, concluimos que el mercado es completo.  \n",
        "\n",
        "5. Para el segundo mercado si éste es completo, construir el portafolio replicante del siguiente reclamo contingente: $X_1(\\omega_1) = 24$, $X_1(\\omega_2) = 0$ y $X_1(\\omega_3) = 18$.\n",
        "\n",
        "  **Solución:** Como el mercado es completo tenemos que el reclamo contigente $X$ es negociable y por el Principio de Valuación de Riesgo Neutro se cumple que  $\\text{E}^{Q}[\\tilde{X}_1] = X_0$ y por lo tanto,\n",
        "  $$\n",
        "  X_0 = \\frac{1}{1+\\frac{1}{9}}\\Big[ 24\\frac{4}{9} + 0\\frac{1}{9} + 18\\frac{4}{9} \\Big] = \\frac{9}{10}\\big[\\frac{56}{3} \\big] = \\frac{84}{5}\n",
        "  $$\n",
        "\n",
        "  Por otro lado, tenemos que\n",
        "\n",
        "  \\begin{matrix}\n",
        "  V_{0}^{\\varphi}& = &\\varphi_0& + &6\\varphi_1& + &10\\varphi_2 &=& \\frac{84}{5} \\\\\n",
        "  V_{1}^{\\varphi}(\\omega_1)& = &\\frac{10}{9}\\varphi_0& + &8\\varphi_1& + &12\\varphi_2 & = & 24 \\\\\n",
        "  V_{1}^{\\varphi}(\\omega_2)& = &\\frac{10}{9}\\varphi_0& + &4\\varphi_1& + &8\\varphi_2 & = & 0 \\\\\n",
        "  V_{1}^{\\varphi}(\\omega_3)& = &\\frac{10}{9}\\varphi_0& + &6\\varphi_1& + &11\\varphi_2 & = & 18 \\\\\n",
        "  \\end{matrix}\n",
        "\n",
        "  Esto implica que\n",
        "\n",
        "  \\begin{matrix}\n",
        "  \\varphi_0& + &6\\varphi_1& + &10\\varphi_2 &=& \\frac{84}{5} \\\\\n",
        "  & + &\\frac{4}{3}\\varphi_1& + &\\frac{8}{9}\\varphi_2 & = & \\frac{16}{3} \\\\\n",
        "  &  & & - &\\frac{4}{3}\\varphi_2 & = & -8 \\\\\n",
        " &  & &  &0 & = & 0 \\\\\n",
        "  \\end{matrix}\n",
        "\n",
        "  cuya solución es $\\varphi_0 = -43.2$, $\\varphi_1 = 0$ y $\\varphi_2 = 6$\n",
        "\n"
      ],
      "metadata": {
        "id": "fE9zN5nHuhiY"
      }
    },
    {
      "cell_type": "markdown",
      "source": [
        "## Ejercicio: Paridad call-put\n",
        "\n",
        "Si $\\Omega = \\{\\omega_1, \\omega_2\\}$, $N = 1$, $r = \\frac{1}{9}$, $S_0 = 10$, $S_1^1(\\omega_1) = 12$ y $S_1^1(\\omega_2) = 8$ y se tiene una opción call sobre este subyacente con precio de ejercicio $K = S_0(1 + r)$.\n",
        "\n",
        "1. ¿Es negociable?\n",
        "\n",
        "  **Solución:**\n",
        "  Sí. Notemos que la matrix\n",
        "  $$\n",
        "  A =\\begin{pmatrix}\n",
        "  1+r & S_1^1(\\omega_1)\\\\\n",
        "  1+r & S_1^1(\\omega_2)\\\\\n",
        "  \\end{pmatrix} =\n",
        "  \\begin{pmatrix}\n",
        "  \\frac{10}{9} & 12\\\\\n",
        "  \\frac{10}{9} & 8\\\\\n",
        "  \\end{pmatrix}\n",
        "  $$\n",
        "  tiene determinantes $|A|\\neq 0$. Por lo que\n",
        "  $$\n",
        "  \\begin{pmatrix}\n",
        "  \\frac{10}{9} & 12\\\\\n",
        "  \\frac{10}{9} & 8\\\\\n",
        "  \\end{pmatrix}\n",
        "  \\begin{pmatrix}\n",
        "  \\varphi_0\\\\\n",
        "  \\varphi_1\\\\\n",
        "  \\end{pmatrix} =\n",
        "  \\begin{pmatrix}\n",
        "  X(\\omega_1) \\\\\n",
        "  X(\\omega_2) \\\\\n",
        "  \\end{pmatrix}\n",
        "  $$\n",
        "  tiene solución para cualquier reclamo contigente $X$ es negociable. Por lo tanto, el mercado es completo y tiene una única probabilidad neutra al riesgo.\n",
        "\n",
        "2. Calcule el valor de este call al tiempo $t = 0$.\n",
        "\n",
        "  **Solución:** Calculemos la probabilidad neutra al riesgo. Supongamos que $p= Q(\\omega_1)$ y $q = Q(\\omega_2)$. Dado que $\\text{E}^Q[\\Delta \\tilde{S}_j] = 0$ implica que $\\text{E}^Q[\\tilde{S}_j] = S_{j}^0$ tenemos que\n",
        "     \\begin{matrix}\n",
        "   &p& +& q& =& 1 \\\\\n",
        "   &108p& + &72q& = &100\\\\\n",
        "   \\end{matrix}\n",
        "   Por lo tanto,\n",
        "    \\begin{matrix}\n",
        "   &p& +& q& =& 1 \\\\\n",
        "   & &  &36q& = &8\\\\\n",
        "   \\end{matrix}\n",
        "   Esto implica que $q= 2/9$ y $p = 7/9$.\n",
        "   \n",
        "   Supongamos que la función de pago de la opción call es\n",
        "   $$\n",
        "   X(\\omega) = [\\text{Máx}\\{(S_1(\\omega) - K),0\\}] = [\\text{Máx}\\{(S_1(\\omega) - S_0(1+r)),0\\}]\n",
        "   $$\n",
        "   y notemos que\n",
        "    \\begin{matrix}\n",
        "   X(\\omega_1) = [\\text{Máx}\\{(12 - \\frac{100}{9}),0\\}]=\\frac{8}{9} \\\\\n",
        "   X(\\omega_2) = [\\text{Máx}\\{(8-\\frac{100}{9}),0\\}]=0\\\\\n",
        "   \\end{matrix}\n",
        "   Usado estos valores obtenemos que el valor del call en el tiempo $t=0$ es\n",
        "   $$\n",
        "   X_0 = \\text{E}^Q\\Big[\\frac{X}{1+r}\\Big] = \\frac{9}{10}\\Big[\\frac{8}{9}\\frac{7}{9}+0\\frac{2}{9}\\Big]=\\frac{56}{90}\n",
        "   $$\n",
        "\n",
        "3. Use la paridad call-put para calcular el valor del put.\n",
        "\n",
        "  **Solución:**\n",
        "  Sabemos que\n",
        "  $$\n",
        "  C - P = S_0 - \\frac{K}{1+r}\n",
        "  $$\n",
        "  Por lo tanto,\n",
        "  $$\n",
        "  P = C-S_0+\\frac{S_0(1+r)}{1+r} = \\frac{56}{90}-10 + 10=\\frac{56}{90}\n",
        "  $$\n",
        "\n",
        "\n",
        "4. Calcule el portafolio replicante en cada caso.\n",
        "\n",
        "  **solución:** Para el call tenemos que definir una estrategia $\\{\\varphi_0,\\varphi_1\\}$ tal que\n",
        "  $$ V_1^{\\varphi}(\\omega)=\\Big\\{\n",
        "  \\begin{matrix}\n",
        "  &\\frac{56}{90}& \\text{si}& \\omega = \\omega_1 \\\\\n",
        "  &0& \\text{si} &\\omega =\\omega_2\\\\\n",
        "  \\end{matrix}\n",
        "  $$\n",
        "  Además\n",
        "  $$\n",
        "  \\begin{matrix}\n",
        "  &\\frac{56}{90}& = & \\frac{10}{9}\\varphi_0 +12\\varphi_1 \\\\\n",
        "  &0& = &\\frac{10}{9}\\varphi_0 + 8 \\varphi_1\\\\\n",
        "  \\end{matrix}\n",
        "  $$\n",
        "  Por lo tanto, $\\varphi_0 = -1.12$ y $\\varphi_1 =0.156$\n",
        "  Por otra parte, para el put tenemos que\n",
        "  $$\n",
        "  V_1^{\\varphi}(\\omega)=\\Big\\{\n",
        "  \\begin{matrix}\n",
        "  &0& \\text{si}& \\omega = \\omega_1 \\\\\n",
        "  &\\frac{56}{90}& \\text{si} &\\omega =\\omega_2\\\\\n",
        "  \\end{matrix}\n",
        "  $$\n",
        "  por lo que\n",
        "  $$\n",
        "  \\begin{matrix}\n",
        "  &0& = & \\frac{10}{9}\\varphi_0 +12\\varphi_1 \\\\\n",
        "  &\\frac{56}{90}& = &\\frac{10}{9}\\varphi_0 + 8 \\varphi_1\\\\\n",
        "  \\end{matrix}\n",
        "  $$\n",
        "  Esto implica que $\\varphi_0 = 1.68$ y $\\varphi_1 =-0.156$\n"
      ],
      "metadata": {
        "id": "Am5oiizpcknQ"
      }
    },
    {
      "cell_type": "markdown",
      "source": [
        "## Datos de la Acción de Elektra\n",
        "\n",
        "Con los datos de la acción de Elektra del 1 de enero al 30 de junio de 2024 conteste las siguientes preguntas.\n",
        "\n",
        "1. Calcule los rendimientos diarios de la acción. Utilice como tasa de interés la de Cetes a 28 días vigente al 1 de julio.\n",
        "\n",
        "**Solución:** En primer lugar, la tasa de interés anual de los Cetes a 28 días es de 11.02%. A continuación importamos los datos correspondientes a la acción de ELEKTRA usando *Python*\n"
      ],
      "metadata": {
        "id": "s7-ZmfIR97Dl"
      }
    },
    {
      "cell_type": "code",
      "source": [
        "# Importamos librerías necesarias\n",
        "import requests\n",
        "import numpy as np\n",
        "import pandas as pd\n",
        "import yfinance as yf\n",
        "\n",
        "# Importamos los datos de la acción correspondientes a 1 año\n",
        "accion = 'ELEKTRA.MX'\n",
        "periodo = '1Y'\n",
        "accion = yf.Ticker(accion)\n",
        "df_elektra = accion.history(period=periodo)\n",
        "\n",
        "# Damos formato al índice usando la fecha\n",
        "df_elektra.index = df_elektra.index.date\n",
        "\n",
        "# Calculamos los retornos diarios\n",
        "df_elektra['rendimientos_diarios'] = (df_elektra['Close'] - df_elektra['Close'].shift(1)) / df_elektra['Close'].shift(1)\n",
        "\n",
        "# Convertir el índice a tipo datetime para facilitar la selección por fechas\n",
        "df_elektra.index = pd.to_datetime(df_elektra.index)\n",
        "\n",
        "# Seleccionar el periodo del 1 de enero al 30 de junio de 2024\n",
        "df = df_elektra.loc['2024-01-01':'2024-06-30']\n",
        "\n",
        "# Imprimir una parte de los resultados\n",
        "print(df)"
      ],
      "metadata": {
        "colab": {
          "base_uri": "https://localhost:8080/"
        },
        "id": "-rVqIDH8UO-w",
        "outputId": "98565439-b026-4c22-9ca9-b30a7818325e"
      },
      "execution_count": 78,
      "outputs": [
        {
          "output_type": "stream",
          "name": "stdout",
          "text": [
            "                   Open         High          Low        Close  Volume  \\\n",
            "2024-01-02  1169.942489  1169.942489  1152.780209  1167.782227   12749   \n",
            "2024-01-03  1165.880941  1175.776077  1162.974059  1168.190430   65223   \n",
            "2024-01-04  1166.727098  1168.280003  1150.868850  1161.938721   63804   \n",
            "2024-01-05  1163.143276  1172.331651  1160.216466  1167.314331   14549   \n",
            "2024-01-08  1168.708085  1168.708085  1151.316861  1158.723267   76579   \n",
            "...                 ...          ...          ...          ...     ...   \n",
            "2024-06-24  1068.770020  1091.790039  1063.329956  1065.000000   61613   \n",
            "2024-06-25  1065.469971  1085.989990  1063.000000  1070.010010   65498   \n",
            "2024-06-26  1077.520020  1081.359985  1058.000000  1070.000000   65572   \n",
            "2024-06-27  1063.739990  1082.329956  1050.000000  1061.310059   35821   \n",
            "2024-06-28  1064.280029  1064.280029  1053.000000  1055.810059   32506   \n",
            "\n",
            "            Dividends  Stock Splits  rendimientos_diarios  \n",
            "2024-01-02        0.0           0.0             -0.001711  \n",
            "2024-01-03        0.0           0.0              0.000350  \n",
            "2024-01-04        0.0           0.0             -0.005352  \n",
            "2024-01-05        0.0           0.0              0.004626  \n",
            "2024-01-08        0.0           0.0             -0.007360  \n",
            "...               ...           ...                   ...  \n",
            "2024-06-24        0.0           0.0              0.002730  \n",
            "2024-06-25        0.0           0.0              0.004704  \n",
            "2024-06-26        0.0           0.0             -0.000009  \n",
            "2024-06-27        0.0           0.0             -0.008121  \n",
            "2024-06-28        0.0           0.0             -0.005182  \n",
            "\n",
            "[124 rows x 8 columns]\n"
          ]
        }
      ]
    },
    {
      "cell_type": "markdown",
      "source": [
        "2. Calcule un histograma con dos subintervalos de $ (-\\infty, 0]$ y de $ (0, \\infty)$. Estime entonces por medio de la frecuencia relativa la probabilidad actual $ p $ de que el precio diario suba.\n",
        "\n",
        "**Solución:**"
      ],
      "metadata": {
        "id": "cHVcSLWNgDvL"
      }
    },
    {
      "cell_type": "code",
      "source": [
        "import matplotlib.pyplot as plt\n",
        "\n",
        "# Definimos las clases\n",
        "df.loc[:, 'clases'] = np.where(df['rendimientos_diarios'] <= 0, '≤ 0', '> 0')\n",
        "\n",
        "# Calculamos la frecuencia de cada clase\n",
        "frecuencia_clases = df['clases'].value_counts().reset_index()\n",
        "frecuencia_clases.columns = ['Clase', 'Frecuencia']\n",
        "\n",
        "# Construimos el histograma\n",
        "plt.figure(figsize=(5, 3))\n",
        "bars = plt.bar(frecuencia_clases['Clase'], frecuencia_clases['Frecuencia'], color=['blue', 'orange'])\n",
        "plt.xlabel('Clase')\n",
        "plt.ylabel('Frecuencia')\n",
        "plt.title('Frecuencia de Rendimientos Diarios por Clase')\n",
        "plt.legend([bars[0], bars[1]], ['≤ 0', '> 0'], title='Clase', loc='upper right')\n",
        "plt.show()\n",
        "\n",
        "# Calculamos la probabilidad de subida y de bajada\n",
        "probabilidad_subida = np.sum(df['rendimientos_diarios'] > 0) / len(df)\n",
        "probabilidad_bajada = 1-probabilidad_subida\n",
        "print(f'La probabilidad de que el precio diario suba es: p = {probabilidad_subida:.2f}')\n",
        "print(f'La probabilidad de que el precio diario baje es: q = {probabilidad_bajada:.2f}')"
      ],
      "metadata": {
        "colab": {
          "base_uri": "https://localhost:8080/",
          "height": 369
        },
        "id": "wTZM26RcbvIj",
        "outputId": "6c26b257-094a-41b3-c5f0-fdc782207749"
      },
      "execution_count": 80,
      "outputs": [
        {
          "output_type": "display_data",
          "data": {
            "text/plain": [
              "<Figure size 500x300 with 1 Axes>"
            ],
            "image/png": "[encoded data removed]"
          },
          "metadata": {}
        },
        {
          "output_type": "stream",
          "name": "stdout",
          "text": [
            "La probabilidad de que el precio diario suba es: p = 0.46\n",
            "La probabilidad de que el precio diario baje es: q = 0.54\n"
          ]
        }
      ]
    },
    {
      "cell_type": "markdown",
      "source": [
        "\n",
        "3. Utilice el modelo de Cox-Rubistein para el mercado Bernoulli con $N = 1$, $t = 1$ mes. Estime el valor de $ u $ y el valor de $ d$. Considere que $ r $ anual, calcule la tasa por un mes.\n",
        "\n"
      ],
      "metadata": {
        "id": "nkGz2JDmmmEK"
      }
    },
    {
      "cell_type": "markdown",
      "source": [
        "**Solución**: Dado que la tasa de los Cetes a 28 días es anual y vamos a calcular respecto al periodo de un mes primero transformamos la tasa al periodo solicitado"
      ],
      "metadata": {
        "id": "UC2k8iK_RxnS"
      }
    },
    {
      "cell_type": "code",
      "source": [
        "r_cetes_anual = 0.1102\n",
        "r_cetes_mensual = (1 + r_cetes_anual)**(1/12) - 1\n",
        "print(f'Tasa de Cetes mensual: {r_cetes_mensual:.6f}')"
      ],
      "metadata": {
        "colab": {
          "base_uri": "https://localhost:8080/",
          "height": 0
        },
        "id": "HS9MTR3vNXUM",
        "outputId": "599006db-fef8-44fc-c746-d475a95845f4"
      },
      "execution_count": 65,
      "outputs": [
        {
          "output_type": "stream",
          "name": "stdout",
          "text": [
            "Tasa de Cetes mensual: 0.008750\n"
          ]
        }
      ]
    },
    {
      "cell_type": "markdown",
      "source": [
        "Dado que tenemos los datos históricos diarios calculemos ahora la volatilidad diaria y después la volatilidad mensual"
      ],
      "metadata": {
        "id": "TUU1Xgad0msJ"
      }
    },
    {
      "cell_type": "code",
      "source": [
        "volatilidad_diaria = df['rendimientos_diarios'].std()\n",
        "\n",
        "dias_negociacion_mensual = 22\n",
        "volatilidad_mensual = volatilidad_diaria * np.sqrt(dias_negociacion_mensual)\n",
        "\n",
        "print(f'Volatilidad diaria: {volatilidad_diaria:.4f}')\n",
        "print(f'Volatilidad mensual: {volatilidad_mensual:.4f}')"
      ],
      "metadata": {
        "colab": {
          "base_uri": "https://localhost:8080/",
          "height": 0
        },
        "id": "nq4DVtfNi15R",
        "outputId": "b6eaba07-220b-4779-8a65-f65dc115a4b0"
      },
      "execution_count": 66,
      "outputs": [
        {
          "output_type": "stream",
          "name": "stdout",
          "text": [
            "Volatilidad diaria: 0.0073\n",
            "Volatilidad mensual: 0.0343\n"
          ]
        }
      ]
    },
    {
      "cell_type": "markdown",
      "source": [
        "Para calcular los valores $u$ y $d$ podemos usar el modelo binomial continuo o discreto\n",
        "$$\n",
        "u =e^{(r-\\sigma^2/2) + \\sigma } \\quad \\text{ y } \\quad d =e^{(r-\\sigma^2/2) - \\sigma }\n",
        "$$\n",
        "o\n",
        "$$\n",
        "u = (1+r)e^{\\sigma} \\quad \\text { y } \\quad d=(1+r)e^{-\\sigma}\n",
        "$$\n"
      ],
      "metadata": {
        "id": "wIxiAuUAWr3D"
      }
    },
    {
      "cell_type": "code",
      "source": [
        "# Datos\n",
        "sigma = volatilidad_mensual  # Volatilidad mensual\n",
        "r = r_cetes_mensual  # Tasa de interés mensual\n",
        "\n",
        "# Con tasa de interés continua\n",
        "u_continuo = np.exp((r - 0.5 * sigma ** 2) + sigma)\n",
        "d_continuo = np.exp((r - 0.5 * sigma ** 2) - sigma)\n",
        "\n",
        "# Con tasa de interés discreta\n",
        "u_discreto = (1 + r) * np.exp(sigma)\n",
        "d_discreto = (1 + r) * np.exp(-sigma)\n",
        "\n",
        "# Mostrar resultados\n",
        "print(f\"Con tasa continua mensual: u = {u_continuo:.4f}, d = {d_continuo:.4f}\")\n",
        "print(f\"Con tasa discreta mensual: u = {u_discreto:.4f}, d = {d_discreto:.4f}\")\n"
      ],
      "metadata": {
        "colab": {
          "base_uri": "https://localhost:8080/",
          "height": 0
        },
        "id": "sUiE5oBYYpTN",
        "outputId": "4c10fb58-b4b6-4403-be2e-ee9e95f9698b"
      },
      "execution_count": 67,
      "outputs": [
        {
          "output_type": "stream",
          "name": "stdout",
          "text": [
            "Con tasa continua mensual: u = 1.0434, d = 0.9742\n",
            "Con tasa discreta mensual: u = 1.0440, d = 0.9747\n"
          ]
        }
      ]
    },
    {
      "cell_type": "markdown",
      "source": [
        "Para este caso, supongamos el caso discreto.\n",
        "\n",
        "Suponiendo que no hay oportunidad de arbitraje y tomando $p=Q(\\omega_1)$ y $q=Q(\\omega_2)$ tales que $p+q=1$, entonces\n",
        "$$\n",
        "\\text{E}^{Q}[\\tilde{S}_1] = S_0\n",
        "$$\n",
        "y por lo tanto,\n",
        "$$\n",
        "\\Big[ puS_0 + qdS_0\\Big] =\\frac{1}{1+r}S_0 ⇒ pu +qd =\\frac{1}{1+r}\n",
        "$$\n",
        "de donde obtenemos que\n",
        "\n",
        "$$\n",
        "p = \\frac{(1+r)-d}{u-d} \\quad \\text{ y } \\quad q = \\frac{u-(1+r)}{u-d}\n",
        "$$\n"
      ],
      "metadata": {
        "id": "kXhpAxZPvJXn"
      }
    },
    {
      "cell_type": "code",
      "source": [
        "# Datos\n",
        "sigma = volatilidad_mensual  # Supongamos una volatilidad mensual del 20%\n",
        "r = r_cetes_mensual     # Supongamos una tasa de interés mensual del 1%\n",
        "\n",
        "# Con tasa de interés continua\n",
        "u_continuo = np.exp((r - 0.5 * sigma ** 2) + sigma)\n",
        "d_continuo = np.exp((r - 0.5 * sigma ** 2) - sigma)\n",
        "\n",
        "# Cálculo de la probabilidad neutral al riesgo\n",
        "p_continuo = (np.exp(r) - d_continuo) / (u_continuo - d_continuo)\n",
        "q_continuo = 1 - p_continuo\n",
        "\n",
        "# Con tasa de interés discreta\n",
        "u_discreto = (1 + r) * np.exp(sigma)\n",
        "d_discreto = (1 + r) * np.exp(-sigma)\n",
        "\n",
        "# Cálculo de la probabilidad neutral al riesgo\n",
        "p_discreto = ((1 + r) - d_discreto) / (u_discreto - d_discreto)\n",
        "q_discreto = 1 - p_discreto\n",
        "\n",
        "# Mostrar resultados\n",
        "print(\"Con tasa continua:\")\n",
        "print(f\"u = {u_continuo:.4f}, d = {d_continuo:.4f}, p = {p_continuo:.4f}, q = {q_continuo:.4f}\\n\")\n",
        "\n",
        "print(\"Con tasa discreta:\")\n",
        "print(f\"u = {u_discreto:.4f}, d = {d_discreto:.4f}, p = {p_discreto:.4f}, q = {q_discreto:.4f}\")\n"
      ],
      "metadata": {
        "colab": {
          "base_uri": "https://localhost:8080/",
          "height": 0
        },
        "id": "YWnnn01hZOkN",
        "outputId": "09daedc2-76fe-4f25-db59-92e2195b5743"
      },
      "execution_count": 68,
      "outputs": [
        {
          "output_type": "stream",
          "name": "stdout",
          "text": [
            "Con tasa continua:\n",
            "u = 1.0434, d = 0.9742, p = 0.5000, q = 0.5000\n",
            "\n",
            "Con tasa discreta:\n",
            "u = 1.0440, d = 0.9747, p = 0.4914, q = 0.5086\n"
          ]
        }
      ]
    },
    {
      "cell_type": "markdown",
      "source": [
        "4.  ¿Hay AOA en este modelo? En caso de que no se cumpla, usar como tasa $ r = 0.0625 $ anual. Determine la probabilidad neutra al riesgo"
      ],
      "metadata": {
        "id": "HafGk9vMoVXc"
      }
    },
    {
      "cell_type": "markdown",
      "source": [
        "**Solución:** Sí. Dado que $d=0.9747 < 1+r_{mensual} = 1.008749738737959 < 1.0440=u$, entonces hay AOA."
      ],
      "metadata": {
        "id": "V6eunLsqaWtl"
      }
    },
    {
      "cell_type": "markdown",
      "source": [
        "5. Tomando a $S_0^1$ como el precio del 1 de julio de la acción $ X$, $S_1^1(\\omega_1) = uS_0^1$ y $ S_1^1(\\omega_2) = dS_0^1 $. Determine el perfil de pagos de un Put al $t = 1$ cuando $K = (1+r)S_0^1$. Determine el valor del put al tiempo $ t = 0 $. Use la paridad call-put para valuar el call correspondiente a los datos.\n",
        "\n"
      ],
      "metadata": {
        "id": "J55qO3deUB8F"
      }
    },
    {
      "cell_type": "code",
      "source": [
        "# Precio de la acción el 1 de julio\n",
        "S01 = df_elektra.loc['2024-07-01','Close']\n",
        "print(\"Precio el 1 de julio S01 =\",S01)\n",
        "print(\" \")\n",
        "# Factores u, d\n",
        "p = 0.4914\n",
        "u = 1.0440\n",
        "d = 0.9747\n",
        "\n",
        "# Precios futuros según los factores u y d\n",
        "S11_omega1 = u * S01\n",
        "S11_omega2 = d * S01\n",
        "print(\"Precio futuro S_11(w1) =\",S11_omega1)\n",
        "print(\"Precio futuro S_11(w2) =\",S11_omega2)\n",
        "print(\" \")\n",
        "\n",
        "# Precio de ejercicio\n",
        "K = (1 + r_cetes_mensual) * S01\n",
        "print(\"Precio de ejercicio K =\",K)\n",
        "print(\" \")\n",
        "\n",
        "# Valor del Put al tiempo t=1\n",
        "put_omega1 = max(K - S11_omega1, 0)\n",
        "put_omega2 = max(K - S11_omega2, 0)\n",
        "print(\"Valor del Put en t=1 (w1) =\",put_omega1)\n",
        "print(\"Valor del Put en t=1 (w2) =\",put_omega2)\n",
        "print(\" \")\n",
        "\n",
        "# Valor del Call al tiempo t=1\n",
        "call_omega1 = max(S11_omega1-K, 0)\n",
        "call_omega2 = max(S11_omega2-K, 0)\n",
        "print(\"Valor del Call en t=1 (w1) =\",call_omega1)\n",
        "print(\"Valor del Call en t=1 (w2) =\",call_omega2)\n",
        "print(\" \")\n",
        "\n",
        "# Valor del Put al tiempo t=0 usando la probabilidad neutra al riesgo\n",
        "put_value_t0 = (1 / (1 + r_cetes_mensual)) * (p * put_omega1 + (1 - p) * put_omega2)\n",
        "\n",
        "# Valor del Call al tiempo t=0 usando la probabilidad neutra al riesgo\n",
        "call_value_t0 = (1 / (1 + r_cetes_mensual)) * (p * call_omega1 + (1 - p) * call_omega2)\n",
        "\n",
        "# Valor del Call usando la paridad call-put\n",
        "call_value_t0_check = put_value_t0 + S01 - K / (1 + r_cetes_mensual)\n",
        "\n",
        "# Valor del Put usando la paridad call-put\n",
        "put_value_t0_check = call_value_t0 - S01 + K / (1 + r_cetes_mensual)\n",
        "\n",
        "print(f'Valor del Put al tiempo t=0: {put_value_t0:.2f}')\n",
        "print(f'Valor del Call al tiempo t=0: {call_value_t0:.2f}')\n",
        "print(f'Valor del Call usando la paridad call-put: {call_value_t0_check:.2f}')\n",
        "print(f'Valor del Put usando la paridad call-put: {put_value_t0_check:.2f}')\n"
      ],
      "metadata": {
        "colab": {
          "base_uri": "https://localhost:8080/",
          "height": 0
        },
        "id": "oem8TNaqpPBk",
        "outputId": "9f1a4a98-e2a0-4d22-a50c-b1a1d4a8955c"
      },
      "execution_count": 74,
      "outputs": [
        {
          "output_type": "stream",
          "name": "stdout",
          "text": [
            "Precio el 1 de julio S01 = 1060.06005859375\n",
            " \n",
            "Precio futuro S_11(w1) = 1106.702701171875\n",
            "Precio futuro S_11(w2) = 1033.2405391113282\n",
            " \n",
            "Precio de ejercicio K = 1069.3353071529907\n",
            " \n",
            "Valor del Put en t=1 (w1) = 0\n",
            "Valor del Put en t=1 (w2) = 36.09476804166252\n",
            " \n",
            "Valor del Call en t=1 (w1) = 37.3673940188844\n",
            "Valor del Call en t=1 (w2) = 0\n",
            " \n",
            "Valor del Put al tiempo t=0: 18.20\n",
            "Valor del Call al tiempo t=0: 18.20\n",
            "Valor del Call usando la paridad call-put: 18.20\n",
            "Valor del Put usando la paridad call-put: 18.20\n"
          ]
        }
      ]
    },
    {
      "cell_type": "markdown",
      "source": [
        "6. Construya el portafolio replicante para cada opción."
      ],
      "metadata": {
        "id": "S2LVkJ0_p7Nl"
      }
    },
    {
      "cell_type": "code",
      "source": [
        "# Precios futuros de la acción\n",
        "S11_omega1 = u * S01  # Precio si sube\n",
        "S11_omega2 = d * S01  # Precio si baja\n",
        "\n",
        "# Precios de opciones en t=1\n",
        "call_omega1 = max(S11_omega1 - K, 0)\n",
        "call_omega2 = max(S11_omega2 - K, 0)\n",
        "\n",
        "put_omega1 = max(K - S11_omega1, 0)\n",
        "put_omega2 = max(K - S11_omega2, 0)\n",
        "\n",
        "# Calcular la estrategia {phi_0, phi_1} para el Call\n",
        "phi_1_call = (call_omega1 - call_omega2) / (S11_omega1 - S11_omega2)\n",
        "phi_0_call = (call_omega2 - phi_1_call * S11_omega2) / (1 + r_cetes_mensual)\n",
        "\n",
        "# Calcular la estrategia {phi_0, phi_1} para el Put\n",
        "phi_1_put = (put_omega1 - put_omega2) / (S11_omega1 - S11_omega2)\n",
        "phi_0_put = (put_omega2 - phi_1_put * S11_omega2) / (1 + r_cetes_mensual)\n",
        "\n",
        "print(f'Portafolio replicante para el Call:')\n",
        "print(f'Cantidad de acciones: {phi_1_call:.4f}')\n",
        "print(f'Cantidad de efectivo: {phi_0_call:.4f}')\n",
        "\n",
        "print(f'\\nPortafolio replicante para el Put:')\n",
        "print(f'Cantidad de acciones: {phi_1_put:.4f}')\n",
        "print(f'Cantidad de efectivo: {phi_0_put:.4f}')\n"
      ],
      "metadata": {
        "colab": {
          "base_uri": "https://localhost:8080/",
          "height": 0
        },
        "id": "XGaTNKztt2x-",
        "outputId": "b49d563d-0317-4d88-8ba8-2276cbfa07dd"
      },
      "execution_count": 75,
      "outputs": [
        {
          "output_type": "stream",
          "name": "stdout",
          "text": [
            "Portafolio replicante para el Call:\n",
            "Cantidad de acciones: 0.5087\n",
            "Cantidad de efectivo: -521.0113\n",
            "\n",
            "Portafolio replicante para el Put:\n",
            "Cantidad de acciones: -0.4913\n",
            "Cantidad de efectivo: 539.0488\n"
          ]
        }
      ]
    },
    {
      "cell_type": "markdown",
      "source": [
        "Notemos que el precio el día primero de agosto fue"
      ],
      "metadata": {
        "id": "57PN8GZ9q21q"
      }
    },
    {
      "cell_type": "code",
      "source": [
        "# Precio de la acción el 1 de julio\n",
        "df_elektra.loc['2024-01-02','Close']"
      ],
      "metadata": {
        "colab": {
          "base_uri": "https://localhost:8080/",
          "height": 0
        },
        "id": "Sl6ffSL9qrvR",
        "outputId": "3500f8e3-a3ae-4913-e7f0-66e8b9ec677a"
      },
      "execution_count": 59,
      "outputs": [
        {
          "output_type": "execute_result",
          "data": {
            "text/plain": [
              "1167.7822265625"
            ]
          },
          "metadata": {},
          "execution_count": 59
        }
      ]
    },
    {
      "cell_type": "code",
      "source": [
        "# Datos\n",
        "S01 = df_elektra.loc['2024-07-01','Close']  # Precio inicial de la acción\n",
        "u = 1.0440  # Factor de aumento\n",
        "d = 0.9747  # Factor de disminución\n",
        "K = (1 + r_cetes_mensual) * S01  # Precio de ejercicio\n",
        "S_final = 1167.7822265625  # Precio final de la acción\n",
        "\n",
        "# Calcular precios futuros de la acción\n",
        "S11_omega1 = u * S01  # Precio si sube\n",
        "S11_omega2 = d * S01  # Precio si baja\n",
        "\n",
        "# Calcular precios de opciones en t=1\n",
        "call_omega1 = max(S11_omega1 - K, 0)\n",
        "call_omega2 = max(S11_omega2 - K, 0)\n",
        "\n",
        "put_omega1 = max(K - S11_omega1, 0)\n",
        "put_omega2 = max(K - S11_omega2, 0)\n",
        "\n",
        "# Calcular Delta y Bono para el Call\n",
        "phi_1_call = (call_omega1 - call_omega2) / (S11_omega1 - S11_omega2)\n",
        "phi_0_call = (call_omega2 - phi_1_call * S11_omega2) / (1 + r_cetes_mensual)\n",
        "\n",
        "# Calcular Delta y Bono para el Put\n",
        "phi_1_put = (put_omega1 - put_omega2) / (S11_omega1 - S11_omega2)\n",
        "phi_0_put = (put_omega2 - phi_1_put * S11_omega2) / (1 + r_cetes_mensual)\n",
        "\n",
        "# Calcular valor final del portafolio replicante\n",
        "Portafolio_Call_final = phi_1_call * S_final + phi_0_call * (1 + r_cetes_mensual)\n",
        "Portafolio_Put_final = phi_1_put * S_final + phi_0_put * (1 + r_cetes_mensual)\n",
        "\n",
        "# Calcular valor final de las opciones\n",
        "Call_final = max(S_final - K, 0)\n",
        "Put_final = max(K - S_final, 0)\n",
        "\n",
        "# Imprimir resultados\n",
        "print(\"Portafolio replicante para el Call:\")\n",
        "print(f\"Cantidad de acciones: {phi_1_call:.4f}\")\n",
        "print(f\"Cantidad de efectivo: {phi_0_call:.4f}\")\n",
        "print(f\"Valor final del portafolio: {Portafolio_Call_final:.4f}\")\n",
        "print(f\"Valor final de la opción: {Call_final:.4f}\")\n",
        "\n",
        "print(\"\\nPortafolio replicante para el Put:\")\n",
        "print(f\"Cantidad de acciones: {phi_1_put:.4f}\")\n",
        "print(f\"Cantidad de efectivo: {phi_0_put:.4f}\")\n",
        "print(f\"Valor final del portafolio: {Portafolio_Put_final:.4f}\")\n",
        "print(f\"Valor final de la opción: {Put_final:.4f}\")"
      ],
      "metadata": {
        "colab": {
          "base_uri": "https://localhost:8080/",
          "height": 0
        },
        "id": "0okXhssSsUGc",
        "outputId": "a33e0a68-56ab-48e9-e072-9b6c24d90bd5"
      },
      "execution_count": 71,
      "outputs": [
        {
          "output_type": "stream",
          "name": "stdout",
          "text": [
            "Portafolio replicante para el Call:\n",
            "Cantidad de acciones: 0.5087\n",
            "Cantidad de efectivo: -521.0113\n",
            "Valor final del portafolio: 68.4362\n",
            "Valor final de la opción: 98.4469\n",
            "\n",
            "Portafolio replicante para el Put:\n",
            "Cantidad de acciones: -0.4913\n",
            "Cantidad de efectivo: 539.0488\n",
            "Valor final del portafolio: -30.0107\n",
            "Valor final de la opción: 0.0000\n"
          ]
        }
      ]
    }
  ]
}